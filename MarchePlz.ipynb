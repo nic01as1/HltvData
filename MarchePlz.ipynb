{
 "cells": [
  {
   "cell_type": "code",
   "execution_count": 7,
   "id": "28f9ac8f-3f3a-4e84-87b4-599eaaa95657",
   "metadata": {},
   "outputs": [
    {
     "name": "stderr",
     "output_type": "stream",
     "text": [
      "warning: in the working copy of 'MarchePlz.ipynb', LF will be replaced by CRLF the next time Git touches it\n"
     ]
    },
    {
     "name": "stdout",
     "output_type": "stream",
     "text": [
      "[master (root-commit) dffd937] Add Jupyter Notebook\n",
      " 1 file changed, 1800 insertions(+)\n",
      " create mode 100644 MarchePlz.ipynb\n"
     ]
    }
   ],
   "source": [
    "# Add the notebook file to the staging area\n",
    "!git add MarchePlz.ipynb\n",
    "\n",
    "# Commit the file with a message\n",
    "!git commit -m \"Add Jupyter Notebook\"\n"
   ]
  },
  {
   "cell_type": "code",
   "execution_count": 8,
   "id": "b7729c30-9c5d-469a-8d03-c6516d4a12b0",
   "metadata": {},
   "outputs": [
    {
     "name": "stdout",
     "output_type": "stream",
     "text": [
      "branch 'master' set up to track 'origin/master'.\n"
     ]
    },
    {
     "name": "stderr",
     "output_type": "stream",
     "text": [
      "remote: \n",
      "remote: Create a pull request for 'master' on GitHub by visiting:        \n",
      "remote:      https://github.com/nic01as1/HltvData/pull/new/master        \n",
      "remote: \n",
      "To https://github.com/nic01as1/HltvData.git\n",
      " * [new branch]      master -> master\n"
     ]
    }
   ],
   "source": [
    "# Add the remote repository URL\n",
    "!git remote add origin https://github.com/nic01as1/HltvData.git\n",
    "\n",
    "# Push the changes to GitHub\n",
    "!git push -u origin master\n",
    "\n"
   ]
  },
  {
   "cell_type": "code",
   "execution_count": 5,
   "id": "1c1e6f34-3e04-42ca-9f0d-d116ef8624af",
   "metadata": {},
   "outputs": [
    {
     "name": "stdout",
     "output_type": "stream",
     "text": [
      "Full path to the notebook:  C:\\Users\\Nic\\MarchePlz.ipynb\n"
     ]
    }
   ],
   "source": [
    "import os\n",
    "print(\"Full path to the notebook: \", os.path.join(os.getcwd(), \"MarchePlz.ipynb\"))\n"
   ]
  },
  {
   "cell_type": "code",
   "execution_count": 1,
   "id": "760f6f51-77c7-4577-9e58-b4287295a4ec",
   "metadata": {},
   "outputs": [],
   "source": [
    "import os\n",
    "import numpy as np\n",
    "import pandas as pd\n",
    "from sklearn.model_selection import train_test_split\n",
    "from sklearn.preprocessing import LabelEncoder, OneHotEncoder\n",
    "from sklearn.linear_model import LogisticRegression\n",
    "from sklearn.impute import SimpleImputer\n",
    "from sklearn.metrics import accuracy_score\n",
    "import warnings"
   ]
  },
  {
   "cell_type": "code",
   "execution_count": 2,
   "id": "ad31d841-49cc-4af4-af8b-261ffd16643e",
   "metadata": {},
   "outputs": [
    {
     "name": "stdout",
     "output_type": "stream",
     "text": [
      "Full path to the notebook: C:\\Users\\Nic\\MarchePlz.ipynb\n"
     ]
    }
   ],
   "source": [
    "# Ignore warnings\n",
    "warnings.filterwarnings('ignore')\n",
    "\n",
    "# Print the full path to the notebook\n",
    "print(\"Full path to the notebook:\", os.path.join(os.getcwd(), \"MarchePlz.ipynb\"))\n",
    "\n",
    "# Load the dataset\n",
    "url = 'https://raw.githubusercontent.com/nic01as1/HltvData/main/OMiT%20vs.%20Strife%20at%20ESL%20Challenger%20League%20Season%2047%20North%20America%20Relegation%20_%20HLTV.org.xlsx'\n",
    "raw_data = pd.read_excel(url, engine='openpyxl')\n",
    "\n",
    "# Drop rows with missing scores\n",
    "raw_data = raw_data.dropna(subset=['Score Team1', 'Score Team2'])\n"
   ]
  },
  {
   "cell_type": "code",
   "execution_count": 10,
   "id": "828a75c0-b50f-4557-88e9-82c4065ab5eb",
   "metadata": {},
   "outputs": [],
   "source": [
    "\n",
    "# Convert scores to numeric\n",
    "raw_data['Score Team1'] = pd.to_numeric(raw_data['Score Team1'], errors='coerce')\n",
    "raw_data['Score Team2'] = pd.to_numeric(raw_data['Score Team2'], errors='coerce')\n",
    "\n",
    "# Create the 'Winning Team' column\n",
    "raw_data['Winning Team'] = np.where(raw_data['Score Team1'] > raw_data['Score Team2'], raw_data['Team1'], raw_data['Team2'])\n",
    "\n",
    "# Remove rows where scores are tied (draws)\n",
    "raw_data = raw_data[raw_data['Score Team1'] != raw_data['Score Team2']]\n",
    "\n",
    "# Add 'Round Difference'\n",
    "raw_data['Round Difference'] = np.abs(raw_data['Score Team1'] - raw_data['Score Team2'])\n",
    "\n",
    "# Calculate historical win rates\n",
    "win_counts = {}\n",
    "game_counts = {}\n",
    "\n",
    "for _, row in raw_data.iterrows():\n",
    "    team1, team2, winning_team = row['Team1'], row['Team2'], row['Winning Team']\n",
    "\n",
    "    # Initialize dictionaries if needed\n",
    "    if team1 not in win_counts:\n",
    "        win_counts[team1] = {}\n",
    "        game_counts[team1] = {}\n",
    "    if team2 not in win_counts:\n",
    "        win_counts[team2] = {}\n",
    "        game_counts[team2] = {}\n",
    "\n",
    "    # Update game counts\n",
    "    game_counts[team1][team2] = game_counts[team1].get(team2, 0) + 1\n",
    "    game_counts[team2][team1] = game_counts[team2].get(team1, 0) + 1\n",
    "\n",
    "    # Update win counts\n",
    "    if winning_team == team1:\n",
    "        win_counts[team1][team2] = win_counts[team1].get(team2, 0) + 1\n",
    "    else:\n",
    "        win_counts[team2][team1] = win_counts[team2].get(team1, 0) + 1\n",
    "\n",
    "# Add historical win rates to the dataset\n",
    "raw_data['Historical_Win_Rate_Team1_vs_Team2'] = raw_data.apply(\n",
    "    lambda row: win_counts[row['Team1']].get(row['Team2'], 0) / game_counts[row['Team1']].get(row['Team2'], 1),\n",
    "    axis=1\n",
    ")\n",
    "raw_data['Historical_Win_Rate_Team2_vs_Team1'] = raw_data.apply(\n",
    "    lambda row: win_counts[row['Team2']].get(row['Team1'], 0) / game_counts[row['Team2']].get(row['Team1'], 1),\n",
    "    axis=1\n",
    ")\n",
    "\n",
    "# Calculate overall team win rates\n",
    "team_wins = raw_data['Winning Team'].value_counts()\n",
    "total_games = raw_data[['Team1', 'Team2']].melt(value_name='Team').value_counts('Team')\n",
    "overall_win_rates = (team_wins / total_games).fillna(0).to_dict()\n",
    "raw_data['Overall_Win_Rate_Team1'] = raw_data['Team1'].map(overall_win_rates)\n",
    "raw_data['Overall_Win_Rate_Team2'] = raw_data['Team2'].map(overall_win_rates)\n",
    "\n",
    "# Calculate win rates on the specific map\n",
    "map_wins = raw_data.groupby(['Map', 'Winning Team']).size().unstack(fill_value=0)\n",
    "melted_teams = raw_data.melt(id_vars=['Map'], value_vars=['Team1', 'Team2'], var_name='Team_Type', value_name='Team')\n",
    "map_games = melted_teams.groupby(['Map', 'Team']).size().unstack(fill_value=0)\n",
    "map_win_rates = (map_wins / map_games).fillna(0).stack().to_dict()\n",
    "raw_data['Win_Rate_Team1_on_Map'] = raw_data.apply(lambda row: map_win_rates.get((row['Map'], row['Team1']), 0), axis=1)\n",
    "raw_data['Win_Rate_Team2_on_Map'] = raw_data.apply(lambda row: map_win_rates.get((row['Map'], row['Team2']), 0), axis=1)\n"
   ]
  },
  {
   "cell_type": "code",
   "execution_count": 11,
   "id": "69bc4201-27c4-4dea-9691-919d30af0f41",
   "metadata": {},
   "outputs": [],
   "source": [
    "# One-hot encode the 'Map' column\n",
    "encoder = OneHotEncoder(sparse_output=False)\n",
    "encoded_maps = encoder.fit_transform(raw_data[['Map']])\n",
    "encoded_columns = encoder.get_feature_names_out(['Map'])\n",
    "encoded_df = pd.DataFrame(encoded_maps, columns=encoded_columns)\n",
    "\n",
    "# Combine encoded maps with the main dataset\n",
    "raw_data = pd.concat([raw_data.reset_index(drop=True), encoded_df], axis=1)\n",
    "\n",
    "# Define features and target\n",
    "features = list(encoded_columns) + [\n",
    "    'Round Difference',\n",
    "    'Historical_Win_Rate_Team1_vs_Team2',\n",
    "    'Historical_Win_Rate_Team2_vs_Team1',\n",
    "    'Overall_Win_Rate_Team1',\n",
    "    'Overall_Win_Rate_Team2',\n",
    "    'Win_Rate_Team1_on_Map',\n",
    "    'Win_Rate_Team2_on_Map'\n",
    "]\n",
    "X = raw_data[features]\n",
    "y = raw_data['Winning Team']\n"
   ]
  },
  {
   "cell_type": "code",
   "execution_count": 16,
   "id": "9099311d-83e5-44e1-ad07-90c31768297c",
   "metadata": {},
   "outputs": [
    {
     "name": "stdout",
     "output_type": "stream",
     "text": [
      "Accuracy: 0.02\n",
      "Probability of Vitality winning: 0.09%\n",
      "Probability of Astralis winning: 0.12%\n"
     ]
    }
   ],
   "source": [
    "\n",
    "# Encode the target variable (Winning Team)\n",
    "label_encoder = LabelEncoder()\n",
    "y_encoded = label_encoder.fit_transform(y)\n",
    "\n",
    "# Split the dataset into training and testing sets\n",
    "X_train, X_test, y_train, y_test = train_test_split(X, y_encoded, test_size=0.2, random_state=1)\n",
    "\n",
    "# Impute missing values in features\n",
    "imputer = SimpleImputer(strategy='mean')\n",
    "X_train_imputed = imputer.fit_transform(X_train)\n",
    "X_test_imputed = imputer.transform(X_test)\n",
    "\n",
    "# Train the Logistic Regression model\n",
    "log_reg = LogisticRegression(random_state=1, max_iter=1000)\n",
    "log_reg.fit(X_train_imputed, y_train)\n",
    "\n",
    "# Predict probabilities for the test set\n",
    "y_pred_probs = log_reg.predict_proba(X_test_imputed)\n",
    "\n",
    "\n",
    "# Evaluate the model\n",
    "accuracy = accuracy_score(y_test, log_reg.predict(X_test_imputed))\n",
    "print(f\"Accuracy: {accuracy:.2f}\")\n",
    "\n",
    "# Example input section\n",
    "team_a = \"Vitality\"\n",
    "team_b = \"Astralis\"\n",
    "map_name = \"Vertigo\"\n",
    "\n",
    "# Prepare input for prediction\n",
    "example_input = pd.DataFrame(columns=X_train.columns)  # Ensure exact column match\n",
    "example_input.loc[0] = 0  # Initialize all features to 0\n",
    "\n",
    "# Fill in known values\n",
    "example_input['Historical_Win_Rate_Team1_vs_Team2'] = win_counts.get(team_a, {}).get(team_b, 0) / game_counts.get(team_a, {}).get(team_b, 1)\n",
    "example_input['Historical_Win_Rate_Team2_vs_Team1'] = win_counts.get(team_b, {}).get(team_a, 0) / game_counts.get(team_b, {}).get(team_a, 1)\n",
    "example_input['Overall_Win_Rate_Team1'] = overall_win_rates.get(team_a, 0)\n",
    "example_input['Overall_Win_Rate_Team2'] = overall_win_rates.get(team_b, 0)\n",
    "example_input['Win_Rate_Team1_on_Map'] = map_win_rates.get((map_name, team_a), 0)\n",
    "example_input['Win_Rate_Team2_on_Map'] = map_win_rates.get((map_name, team_b), 0)\n",
    "example_input[f'Map_{map_name}'] = 1  # Set the selected map to 1\n",
    "\n",
    "# Impute missing values in the input\n",
    "example_input_imputed = imputer.transform(example_input)\n",
    "\n",
    "# Predict probabilities\n",
    "example_probabilities = log_reg.predict_proba(example_input_imputed)\n",
    "\n",
    "# Extract probabilities for the two teams\n",
    "team_a_index = label_encoder.transform([team_a])[0]\n",
    "team_b_index = label_encoder.transform([team_b])[0]\n",
    "team_a_prob = example_probabilities[0, team_a_index] * 100  # Convert to %\n",
    "team_b_prob = example_probabilities[0, team_b_index] * 100  # Convert to %\n",
    "\n",
    "print(f\"Probability of {team_a} winning: {team_a_prob:.2f}%\")\n",
    "print(f\"Probability of {team_b} winning: {team_b_prob:.2f}%\")\n"
   ]
  },
  {
   "cell_type": "code",
   "execution_count": null,
   "id": "c48ed2ef-eb77-4847-828c-fa97b5c84a64",
   "metadata": {},
   "outputs": [],
   "source": []
  }
 ],
 "metadata": {
  "kernelspec": {
   "display_name": "Python 3 (ipykernel)",
   "language": "python",
   "name": "python3"
  },
  "language_info": {
   "codemirror_mode": {
    "name": "ipython",
    "version": 3
   },
   "file_extension": ".py",
   "mimetype": "text/x-python",
   "name": "python",
   "nbconvert_exporter": "python",
   "pygments_lexer": "ipython3",
   "version": "3.12.4"
  }
 },
 "nbformat": 4,
 "nbformat_minor": 5
}
